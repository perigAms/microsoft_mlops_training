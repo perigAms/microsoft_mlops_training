{
 "cells": [
  {
   "cell_type": "code",
   "execution_count": 2,
   "id": "6248745f",
   "metadata": {},
   "outputs": [],
   "source": [
    "from src.model.train import get_csvs_df\n",
    "import os\n",
    "import pytest\n",
    "\n",
    "def test_csvs_creates_dataframe():\n",
    "    current_directory = os.path.dirname(os.path.abspath(__file__))\n",
    "    datasets_directory = os.path.join(current_directory, 'datasets')\n",
    "    result = get_csvs_df(datasets_directory)\n",
    "    assert len(result) == 20"
   ]
  },
  {
   "cell_type": "code",
   "execution_count": 8,
   "id": "580ecb07",
   "metadata": {},
   "outputs": [
    {
     "name": "stdout",
     "output_type": "stream",
     "text": [
      "C:\\Users\\igors\\PythonFiles\\microsoft_mlops_training\\microsoft_mlops_training\n",
      "C:\\Users\\igors\\PythonFiles\\microsoft_mlops_training\\microsoft_mlops_training\\tests\\datasets\n"
     ]
    }
   ],
   "source": [
    "current_directory = os.getcwd()\n",
    "print(current_directory)\n",
    "\n",
    "datasets_directory = os.path.join(current_directory, 'tests\\datasets')\n",
    "print(datasets_directory)"
   ]
  },
  {
   "cell_type": "code",
   "execution_count": 12,
   "id": "20cdd860",
   "metadata": {},
   "outputs": [
    {
     "ename": "AssertionError",
     "evalue": "",
     "output_type": "error",
     "traceback": [
      "\u001b[1;31m---------------------------------------------------------------------------\u001b[0m",
      "\u001b[1;31mAssertionError\u001b[0m                            Traceback (most recent call last)",
      "Cell \u001b[1;32mIn[12], line 2\u001b[0m\n\u001b[0;32m      1\u001b[0m result \u001b[38;5;241m=\u001b[39m get_csvs_df(datasets_directory)\n\u001b[1;32m----> 2\u001b[0m \u001b[38;5;28;01massert\u001b[39;00m(\u001b[38;5;28mlen\u001b[39m(result)\u001b[38;5;241m==\u001b[39m\u001b[38;5;241m22\u001b[39m)\n",
      "\u001b[1;31mAssertionError\u001b[0m: "
     ]
    }
   ],
   "source": [
    "result = get_csvs_df(datasets_directory)\n",
    "assert(len(result)==22)"
   ]
  }
 ],
 "metadata": {
  "kernelspec": {
   "display_name": "Python 3 (ipykernel)",
   "language": "python",
   "name": "python3"
  },
  "language_info": {
   "codemirror_mode": {
    "name": "ipython",
    "version": 3
   },
   "file_extension": ".py",
   "mimetype": "text/x-python",
   "name": "python",
   "nbconvert_exporter": "python",
   "pygments_lexer": "ipython3",
   "version": "3.10.9"
  },
  "toc": {
   "base_numbering": 1,
   "nav_menu": {},
   "number_sections": true,
   "sideBar": true,
   "skip_h1_title": false,
   "title_cell": "Table of Contents",
   "title_sidebar": "Contents",
   "toc_cell": false,
   "toc_position": {},
   "toc_section_display": true,
   "toc_window_display": false
  }
 },
 "nbformat": 4,
 "nbformat_minor": 5
}
